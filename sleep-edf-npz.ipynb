{
 "cells": [
  {
   "cell_type": "markdown",
   "id": "0dce620a",
   "metadata": {},
   "source": [
    "This notebook is a tutorial to show how to manage the preprocessed data for sleep stage classification"
   ]
  },
  {
   "cell_type": "code",
   "execution_count": 1,
   "id": "a42ded28",
   "metadata": {},
   "outputs": [],
   "source": [
    "import numpy as np\n",
    "import gzip as gz\n",
    "from tqdm.notebook import tqdm\n",
    "import torch as th\n",
    "import pickle"
   ]
  },
  {
   "cell_type": "code",
   "execution_count": 2,
   "id": "30aa96ee",
   "metadata": {},
   "outputs": [],
   "source": [
    "datad=\"/Users/constouille/Documents/GitHub/adl24-sleep-stage/data/5-cassette\"\n"
   ]
  },
  {
   "cell_type": "code",
   "execution_count": 3,
   "id": "ed5a7ea3",
   "metadata": {},
   "outputs": [],
   "source": [
    "fp = gz.open(datad+'/SC4671G0.npz.gz','rb')\n",
    "data = np.load(fp,allow_pickle=True)\n"
   ]
  },
  {
   "cell_type": "code",
   "execution_count": 25,
   "id": "0f1985af",
   "metadata": {},
   "outputs": [
    {
     "data": {
      "text/plain": [
       "['x', 'y', 'fs', 'ch_label', 'header_raw', 'header_annotation']"
      ]
     },
     "execution_count": 25,
     "metadata": {},
     "output_type": "execute_result"
    }
   ],
   "source": [
    "# To see what it contains\n",
    "data.files"
   ]
  },
  {
   "cell_type": "code",
   "execution_count": 18,
   "id": "a2e28263",
   "metadata": {},
   "outputs": [],
   "source": [
    "# The data are stored in 'x' and 'y'\n",
    "x = data['x']\n",
    "y = data['y']"
   ]
  },
  {
   "cell_type": "code",
   "execution_count": 27,
   "id": "f63427ca",
   "metadata": {},
   "outputs": [
    {
     "data": {
      "text/plain": [
       "tensor([150,  19, 561, 170, 232])"
      ]
     },
     "execution_count": 27,
     "metadata": {},
     "output_type": "execute_result"
    }
   ],
   "source": [
    "tmp = th.tensor(y)\n",
    "th.bincount(tmp)"
   ]
  },
  {
   "cell_type": "code",
   "execution_count": 6,
   "id": "c93d7c1d",
   "metadata": {},
   "outputs": [
    {
     "name": "stdout",
     "output_type": "stream",
     "text": [
      "(1968, 600, 4) (1968,)\n"
     ]
    }
   ],
   "source": [
    "print(x.shape, y.shape)"
   ]
  },
  {
   "cell_type": "code",
   "execution_count": 7,
   "id": "c8228ef7",
   "metadata": {},
   "outputs": [
    {
     "data": {
      "text/plain": [
       "array({'local_subject_id': 'X F X Female_87yr', 'local_recording_id': 'Startdate 07-AUG-1991 X X X', 'date_time': '2091-08-07 16:00:00', 'EDF+': True, 'contiguous': True, 'n_records': 1, 'record_length': 0.0, 'n_channels': 1, 'label': ['EDF Annotations'], 'transducer_type': [''], 'units': [''], 'physical_min': array([0.]), 'physical_max': array([1.]), 'digital_min': array([-32768.]), 'digital_max': array([32767.]), 'prefiltering': [''], 'n_samples_per_record': [3062]},\n",
       "      dtype=object)"
      ]
     },
     "execution_count": 7,
     "metadata": {},
     "output_type": "execute_result"
    }
   ],
   "source": [
    "# The header is the copy of the original one\n",
    "data[\"header_raw\"]\n",
    "data['header_annotation']"
   ]
  },
  {
   "cell_type": "code",
   "execution_count": 8,
   "id": "3ae92ecd",
   "metadata": {},
   "outputs": [
    {
     "name": "stdout",
     "output_type": "stream",
     "text": [
      "['/Users/constouille/Documents/GitHub/adl24-sleep-stage/data/5-cassette/SC4381F0.npz.gz', '/Users/constouille/Documents/GitHub/adl24-sleep-stage/data/5-cassette/SC4532E0.npz.gz', '/Users/constouille/Documents/GitHub/adl24-sleep-stage/data/5-cassette/SC4561F0.npz.gz', '/Users/constouille/Documents/GitHub/adl24-sleep-stage/data/5-cassette/SC4201E0.npz.gz', '/Users/constouille/Documents/GitHub/adl24-sleep-stage/data/5-cassette/SC4722E0.npz.gz', '/Users/constouille/Documents/GitHub/adl24-sleep-stage/data/5-cassette/SC4011E0.npz.gz', '/Users/constouille/Documents/GitHub/adl24-sleep-stage/data/5-cassette/SC4082E0.npz.gz', '/Users/constouille/Documents/GitHub/adl24-sleep-stage/data/5-cassette/SC4491G0.npz.gz', '/Users/constouille/Documents/GitHub/adl24-sleep-stage/data/5-cassette/SC4801G0.npz.gz', '/Users/constouille/Documents/GitHub/adl24-sleep-stage/data/5-cassette/SC4151E0.npz.gz']\n"
     ]
    }
   ],
   "source": [
    "# The four channels in x are 'EEG Fpz-Cz', 'EEG Pz-Oz', 'EOG horizontal', 'EMG submental'\n",
    "# You can take more if you modify the preparation script and rerun it.\n",
    "# To get a list all the files:\n",
    "import os\n",
    "import glob\n",
    "fnames = glob.glob(os.path.join(datad, \"*npz.gz\"))\n",
    "print(fnames[:10]) # print the first 10"
   ]
  },
  {
   "cell_type": "code",
   "execution_count": 10,
   "id": "220193b4",
   "metadata": {
    "scrolled": false
   },
   "outputs": [
    {
     "data": {
      "application/vnd.jupyter.widget-view+json": {
       "model_id": "ac45e04ae599456bbff0a20072345f56",
       "version_major": 2,
       "version_minor": 0
      },
      "text/plain": [
       "  0%|          | 0/153 [00:00<?, ?it/s]"
      ]
     },
     "metadata": {},
     "output_type": "display_data"
    }
   ],
   "source": [
    "devpart = 10\n",
    "xtrain , xvalid = None , None\n",
    "ytrain , yvalid = None , None\n",
    "# If you take all the data you dhould end with\n",
    "#\n",
    "for fn in tqdm(fnames):\n",
    "    fp = gz.open(fn,'rb')\n",
    "    data = np.load(fp,allow_pickle=False) # for now, don't care about headers\n",
    "    x = data['x'][:,:,0] # Take only the EOG\n",
    "    y = data['y'] # Take the labels\n",
    "    idx = np.arange(x.shape[0])\n",
    "    np.random.shuffle(idx)\n",
    "    devlim = x.shape[0]//devpart\n",
    "    devpart = 10\n",
    "    idx = np.arange(x.shape[0])\n",
    "    np.random.shuffle(idx)\n",
    "    devlim = x.shape[0]//devpart\n",
    "    if xtrain is None:\n",
    "        xtrain = np.zeros((1,x.shape[1]))\n",
    "        xvalid = np.zeros((1,x.shape[1]))\n",
    "        ytrain , yvalid = np.zeros(1) , np.zeros(1)\n",
    "    xvalid = np.concatenate((xvalid,x[idx[:devlim]]), axis=0)\n",
    "    yvalid = np.concatenate((yvalid,y[idx[:devlim]]), axis=0)\n",
    "    xtrain = np.concatenate((xtrain,x[idx[devlim:]]), axis=0)\n",
    "    ytrain = np.concatenate((ytrain,y[idx[devlim:]]), axis=0)\n",
    "    del x,y"
   ]
  },
  {
   "cell_type": "code",
   "execution_count": 11,
   "id": "1aa3fb53",
   "metadata": {
    "scrolled": true
   },
   "outputs": [
    {
     "name": "stdout",
     "output_type": "stream",
     "text": [
      "(175996, 600) (19485, 600)\n",
      "(175996,) (19485,)\n"
     ]
    }
   ],
   "source": [
    "print(xtrain.shape, xvalid.shape)\n",
    "print(ytrain.shape, yvalid.shape)\n"
   ]
  },
  {
   "cell_type": "code",
   "execution_count": 12,
   "id": "5507f7ea",
   "metadata": {},
   "outputs": [
    {
     "data": {
      "text/plain": [
       "(1132, 600, 2)"
      ]
     },
     "execution_count": 12,
     "metadata": {},
     "output_type": "execute_result"
    }
   ],
   "source": [
    "data['x'][:, :, :2].shape"
   ]
  },
  {
   "cell_type": "code",
   "execution_count": 13,
   "id": "b338cddb",
   "metadata": {},
   "outputs": [
    {
     "name": "stdout",
     "output_type": "stream",
     "text": [
      "(175995, 600) (19484, 600)\n",
      "(175995,) (19484,)\n"
     ]
    }
   ],
   "source": [
    "# clean the first dummy example\n",
    "xtrain , xvalid = xtrain[1:] , xvalid[1:]\n",
    "ytrain , yvalid = ytrain[1:] , yvalid[1:]\n",
    "print(xtrain.shape, xvalid.shape)\n",
    "print(ytrain.shape, yvalid.shape)"
   ]
  },
  {
   "cell_type": "code",
   "execution_count": 14,
   "id": "beb29cfc",
   "metadata": {},
   "outputs": [],
   "source": [
    "# In Torch version\n",
    "xtrain, xvalid = th.FloatTensor(xtrain), th.FloatTensor(xvalid)\n",
    "ytrain, yvalid = th.IntTensor(ytrain), th.IntTensor(yvalid)"
   ]
  },
  {
   "cell_type": "code",
   "execution_count": 15,
   "id": "7118d956",
   "metadata": {},
   "outputs": [],
   "source": [
    "outf=\"data/cassette-th-data-eeg.pck\"\n",
    "fp = open(outf,\"wb\")\n",
    "pickle.dump((xtrain , xvalid , ytrain , yvalid), fp)"
   ]
  },
  {
   "cell_type": "code",
   "execution_count": 47,
   "id": "e0dce115",
   "metadata": {},
   "outputs": [
    {
     "name": "stdout",
     "output_type": "stream",
     "text": [
      "-rw-r--r--  1 constouille  staff   896M Apr  3 08:43 ./data/cassette-th-data-all.pck\n"
     ]
    }
   ],
   "source": [
    "!ls -lh ./data/cassette-th-data-all.pck"
   ]
  }
 ],
 "metadata": {
  "kernelspec": {
   "display_name": "Python 3 (ipykernel)",
   "language": "python",
   "name": "python3"
  },
  "language_info": {
   "codemirror_mode": {
    "name": "ipython",
    "version": 3
   },
   "file_extension": ".py",
   "mimetype": "text/x-python",
   "name": "python",
   "nbconvert_exporter": "python",
   "pygments_lexer": "ipython3",
   "version": "3.10.6"
  },
  "toc": {
   "base_numbering": 1,
   "nav_menu": {},
   "number_sections": true,
   "sideBar": true,
   "skip_h1_title": false,
   "title_cell": "Table of Contents",
   "title_sidebar": "Contents",
   "toc_cell": false,
   "toc_position": {},
   "toc_section_display": true,
   "toc_window_display": false
  }
 },
 "nbformat": 4,
 "nbformat_minor": 5
}
